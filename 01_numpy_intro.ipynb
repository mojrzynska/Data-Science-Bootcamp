{
  "nbformat": 4,
  "nbformat_minor": 0,
  "metadata": {
    "colab": {
      "name": "01-numpy-intro.ipynb",
      "provenance": [],
      "authorship_tag": "ABX9TyOtTC74kwHOJs7tTBP84QQW",
      "include_colab_link": true
    },
    "kernelspec": {
      "name": "python3",
      "display_name": "Python 3"
    },
    "language_info": {
      "name": "python"
    }
  },
  "cells": [
    {
      "cell_type": "markdown",
      "metadata": {
        "id": "view-in-github",
        "colab_type": "text"
      },
      "source": [
        "<a href=\"https://colab.research.google.com/github/mojrzynska/Data-Science-Bootcamp/blob/main/01_numpy_intro.ipynb\" target=\"_parent\"><img src=\"https://colab.research.google.com/assets/colab-badge.svg\" alt=\"Open In Colab\"/></a>"
      ]
    },
    {
      "cell_type": "code",
      "execution_count": null,
      "metadata": {
        "id": "NqqX-9Gajm6_"
      },
      "outputs": [],
      "source": [
        "import numpy as np\n",
        "#np.__version__// sprawdzenie wersji\n",
        "#tworzenie tablic 1D,2D,3D Array\n",
        "#help(np.array)\n",
        "tab1 = np.array([1, 1])\n",
        "tab2 = np.array([1.1, 5.6, 9.3])\n",
        "print(tab1)\n",
        "type(tab1)\n",
        "print(tab2.ndim) #podstawowe atrybuty tablic\n",
        "print(tab2.shape)\n",
        "print(tab2.size)\n",
        "print(tab2.dtype)"
      ]
    },
    {
      "cell_type": "code",
      "source": [
        "#2Darrays"
      ],
      "metadata": {
        "id": "4RB-_jULjp-b"
      },
      "execution_count": null,
      "outputs": []
    }
  ]
}